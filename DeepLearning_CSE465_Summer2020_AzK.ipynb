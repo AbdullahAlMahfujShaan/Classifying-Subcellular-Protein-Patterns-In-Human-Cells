{
  "nbformat": 4,
  "nbformat_minor": 0,
  "metadata": {
    "colab": {
      "name": "DeepLearning_CSE465_Summer2020_AzK.ipynb",
      "provenance": [],
      "authorship_tag": "ABX9TyMizzovbNFqU0XxE9JV5/77",
      "include_colab_link": true
    },
    "kernelspec": {
      "name": "python3",
      "display_name": "Python 3"
    }
  },
  "cells": [
    {
      "cell_type": "markdown",
      "metadata": {
        "id": "view-in-github",
        "colab_type": "text"
      },
      "source": [
        "<a href=\"https://colab.research.google.com/github/AbdullahAlMahfujShaan/DeepLearning_CSE465_Summer_2020/blob/master/DeepLearning_CSE465_Summer2020_AzK.ipynb\" target=\"_parent\"><img src=\"https://colab.research.google.com/assets/colab-badge.svg\" alt=\"Open In Colab\"/></a>"
      ]
    },
    {
      "cell_type": "markdown",
      "metadata": {
        "id": "QL9WEesg0urH",
        "colab_type": "text"
      },
      "source": [
        "#**1. Introduction**"
      ]
    },
    {
      "cell_type": "markdown",
      "metadata": {
        "id": "DP5Nz6bI1H-v",
        "colab_type": "text"
      },
      "source": [
        "# **2. Data Preparation**"
      ]
    },
    {
      "cell_type": "markdown",
      "metadata": {
        "id": "DnY0EiZS1fuH",
        "colab_type": "text"
      },
      "source": [
        "# **3. CNN**"
      ]
    },
    {
      "cell_type": "markdown",
      "metadata": {
        "id": "d7CWOhsV1mU-",
        "colab_type": "text"
      },
      "source": [
        "# **4. Model Evaluation**"
      ]
    },
    {
      "cell_type": "markdown",
      "metadata": {
        "id": "2m93J-sr11EG",
        "colab_type": "text"
      },
      "source": [
        "# **5. Testing & Results Submission**"
      ]
    }
  ]
}