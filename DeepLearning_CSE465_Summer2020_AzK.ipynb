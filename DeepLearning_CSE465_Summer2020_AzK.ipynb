{
  "nbformat": 4,
  "nbformat_minor": 0,
  "metadata": {
    "colab": {
      "name": "DeepLearning_CSE465_Summer2020_AzK.ipynb",
      "provenance": [],
      "collapsed_sections": [],
      "authorship_tag": "ABX9TyNKhSaRt1yCx+wLljTOCRNr",
      "include_colab_link": true
    },
    "kernelspec": {
      "name": "python3",
      "display_name": "Python 3"
    }
  },
  "cells": [
    {
      "cell_type": "markdown",
      "metadata": {
        "id": "view-in-github",
        "colab_type": "text"
      },
      "source": [
        "<a href=\"https://colab.research.google.com/github/AbdullahAlMahfujShaan/DeepLearning_CSE465_Summer_2020/blob/master/DeepLearning_CSE465_Summer2020_AzK.ipynb\" target=\"_parent\"><img src=\"https://colab.research.google.com/assets/colab-badge.svg\" alt=\"Open In Colab\"/></a>"
      ]
    },
    {
      "cell_type": "markdown",
      "metadata": {
        "id": "QL9WEesg0urH",
        "colab_type": "text"
      },
      "source": [
        "#**1. Introduction**"
      ]
    },
    {
      "cell_type": "markdown",
      "metadata": {
        "id": "Cpjj571L44us",
        "colab_type": "text"
      },
      "source": [
        "### **1.1 Definitions**"
      ]
    },
    {
      "cell_type": "markdown",
      "metadata": {
        "id": "vv-rpfaU4-Vt",
        "colab_type": "text"
      },
      "source": [
        "### **1.2 Abstract**"
      ]
    },
    {
      "cell_type": "markdown",
      "metadata": {
        "id": "DP5Nz6bI1H-v",
        "colab_type": "text"
      },
      "source": [
        "# **2. Data Preparation**"
      ]
    },
    {
      "cell_type": "markdown",
      "metadata": {
        "id": "h1gZD2mf3IDO",
        "colab_type": "text"
      },
      "source": [
        "## **2.1 Import Library**"
      ]
    },
    {
      "cell_type": "markdown",
      "metadata": {
        "id": "nEQj9nO83Yqk",
        "colab_type": "text"
      },
      "source": [
        "### **2.1.1 Download Data**"
      ]
    },
    {
      "cell_type": "markdown",
      "metadata": {
        "id": "12uv_PRT3kRO",
        "colab_type": "text"
      },
      "source": [
        "### **2.1.2 Load & Visualize Data**"
      ]
    },
    {
      "cell_type": "markdown",
      "metadata": {
        "id": "3t5wz_LX3vvM",
        "colab_type": "text"
      },
      "source": [
        "### **2.1.3 Check for Null & Missing Values**"
      ]
    },
    {
      "cell_type": "markdown",
      "metadata": {
        "id": "1cFRVX_D39Yt",
        "colab_type": "text"
      },
      "source": [
        "### **2.1.4 Splitting & Validation Set**"
      ]
    },
    {
      "cell_type": "markdown",
      "metadata": {
        "id": "DnY0EiZS1fuH",
        "colab_type": "text"
      },
      "source": [
        "# **3. CNN**"
      ]
    },
    {
      "cell_type": "markdown",
      "metadata": {
        "id": "ITxm7_bb4wyV",
        "colab_type": "text"
      },
      "source": [
        "###**3.1 Defining the Model**"
      ]
    },
    {
      "cell_type": "markdown",
      "metadata": {
        "id": "dTaR3tg-5KQ9",
        "colab_type": "text"
      },
      "source": [
        "### **3.2 Setting the Optimizer**"
      ]
    },
    {
      "cell_type": "markdown",
      "metadata": {
        "id": "iVakC5gx5SX9",
        "colab_type": "text"
      },
      "source": [
        "### **3.3 Data Augmentation**"
      ]
    },
    {
      "cell_type": "markdown",
      "metadata": {
        "id": "d7CWOhsV1mU-",
        "colab_type": "text"
      },
      "source": [
        "# **4. Model Evaluation**"
      ]
    },
    {
      "cell_type": "markdown",
      "metadata": {
        "id": "Vwu7tJkk4ULX",
        "colab_type": "text"
      },
      "source": [
        "### **4.1 Training & Validation Curves**"
      ]
    },
    {
      "cell_type": "markdown",
      "metadata": {
        "id": "FuC5cX3B4lld",
        "colab_type": "text"
      },
      "source": [
        "### **4.2 Confusion Matrix**"
      ]
    },
    {
      "cell_type": "markdown",
      "metadata": {
        "id": "2m93J-sr11EG",
        "colab_type": "text"
      },
      "source": [
        "# **5. Testing & Results Submission**"
      ]
    }
  ]
}