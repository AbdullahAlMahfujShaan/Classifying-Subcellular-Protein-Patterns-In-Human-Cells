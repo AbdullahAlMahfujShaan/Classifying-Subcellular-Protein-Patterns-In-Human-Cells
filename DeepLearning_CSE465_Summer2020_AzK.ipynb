{
  "nbformat": 4,
  "nbformat_minor": 0,
  "metadata": {
    "colab": {
      "name": "DeepLearning_CSE465_Summer2020_AzK.ipynb",
      "provenance": [],
      "collapsed_sections": [],
      "include_colab_link": true
    },
    "kernelspec": {
      "name": "python3",
      "display_name": "Python 3"
    }
  },
  "cells": [
    {
      "cell_type": "markdown",
      "metadata": {
        "id": "view-in-github",
        "colab_type": "text"
      },
      "source": [
        "<a href=\"https://colab.research.google.com/github/AbdullahAlMahfujShaan/DeepLearning_CSE465_Summer_2020/blob/master/DeepLearning_CSE465_Summer2020_AzK.ipynb\" target=\"_parent\"><img src=\"https://colab.research.google.com/assets/colab-badge.svg\" alt=\"Open In Colab\"/></a>"
      ]
    },
    {
      "cell_type": "markdown",
      "metadata": {
        "id": "QL9WEesg0urH",
        "colab_type": "text"
      },
      "source": [
        "#**1. Introduction**"
      ]
    },
    {
      "cell_type": "markdown",
      "metadata": {
        "id": "Cpjj571L44us",
        "colab_type": "text"
      },
      "source": [
        "### **1.1 Definitions**"
      ]
    },
    {
      "cell_type": "markdown",
      "metadata": {
        "id": "vv-rpfaU4-Vt",
        "colab_type": "text"
      },
      "source": [
        "### **1.2 Abstract**"
      ]
    },
    {
      "cell_type": "markdown",
      "metadata": {
        "id": "DP5Nz6bI1H-v",
        "colab_type": "text"
      },
      "source": [
        "# **2. Data Preparation**"
      ]
    },
    {
      "cell_type": "markdown",
      "metadata": {
        "id": "h1gZD2mf3IDO",
        "colab_type": "text"
      },
      "source": [
        "## **2.1 Import Library**"
      ]
    },
    {
      "cell_type": "code",
      "metadata": {
        "id": "bvS2OEh06XX7",
        "colab_type": "code",
        "colab": {
          "base_uri": "https://localhost:8080/",
          "height": 92
        },
        "outputId": "bae69ba5-d151-43bd-da14-8161fcecbf58"
      },
      "source": [
        "import pandas as pd\n",
        "import numpy as np\n",
        "import matplotlib.pyplot as plt\n",
        "import matplotlib.image as mpimg\n",
        "import seaborn as sns\n",
        "%matplotlib inline\n",
        "\n",
        "np.random.seed(2)\n",
        "\n",
        "from sklearn.model_selection import train_test_split\n",
        "from sklearn.metrics import confusion_matrix\n",
        "import itertools\n",
        "\n",
        "from keras.utils.np_utils import to_categorical # convert to one-hot-encoding\n",
        "from keras.models import Sequential\n",
        "from keras.layers import Dense, Dropout, Flatten, Conv2D, MaxPool2D\n",
        "from keras.optimizers import RMSprop\n",
        "from keras.preprocessing.image import ImageDataGenerator\n",
        "from keras.callbacks import ReduceLROnPlateau"
      ],
      "execution_count": null,
      "outputs": [
        {
          "output_type": "stream",
          "text": [
            "/usr/local/lib/python3.6/dist-packages/statsmodels/tools/_testing.py:19: FutureWarning: pandas.util.testing is deprecated. Use the functions in the public API at pandas.testing instead.\n",
            "  import pandas.util.testing as tm\n",
            "Using TensorFlow backend.\n"
          ],
          "name": "stderr"
        }
      ]
    },
    {
      "cell_type": "markdown",
      "metadata": {
        "id": "nEQj9nO83Yqk",
        "colab_type": "text"
      },
      "source": [
        "### **2.1.1 Download Data**"
      ]
    },
    {
      "cell_type": "markdown",
      "metadata": {
        "id": "12uv_PRT3kRO",
        "colab_type": "text"
      },
      "source": [
        "### **2.1.2 Load & Visualize Data**"
      ]
    },
    {
      "cell_type": "markdown",
      "metadata": {
        "id": "3t5wz_LX3vvM",
        "colab_type": "text"
      },
      "source": [
        "### **2.1.3 Check for Null & Missing Values**"
      ]
    },
    {
      "cell_type": "code",
      "metadata": {
        "id": "RH9Jejou63ak",
        "colab_type": "code",
        "colab": {}
      },
      "source": [
        "X_train.isnull().any().describe()"
      ],
      "execution_count": null,
      "outputs": []
    },
    {
      "cell_type": "code",
      "metadata": {
        "id": "rPhr6r4M64xm",
        "colab_type": "code",
        "colab": {}
      },
      "source": [
        "test.isnull().any().describe()"
      ],
      "execution_count": null,
      "outputs": []
    },
    {
      "cell_type": "markdown",
      "metadata": {
        "id": "1cFRVX_D39Yt",
        "colab_type": "text"
      },
      "source": [
        "### **2.1.4 Splitting & Validation Set**"
      ]
    },
    {
      "cell_type": "markdown",
      "metadata": {
        "id": "DnY0EiZS1fuH",
        "colab_type": "text"
      },
      "source": [
        "# **3. CNN**"
      ]
    },
    {
      "cell_type": "markdown",
      "metadata": {
        "id": "ITxm7_bb4wyV",
        "colab_type": "text"
      },
      "source": [
        "###**3.1 Defining the Model**"
      ]
    },
    {
      "cell_type": "markdown",
      "metadata": {
        "id": "dTaR3tg-5KQ9",
        "colab_type": "text"
      },
      "source": [
        "### **3.2 Setting the Optimizer**"
      ]
    },
    {
      "cell_type": "markdown",
      "metadata": {
        "id": "iVakC5gx5SX9",
        "colab_type": "text"
      },
      "source": [
        "### **3.3 Data Augmentation**"
      ]
    },
    {
      "cell_type": "markdown",
      "metadata": {
        "id": "d7CWOhsV1mU-",
        "colab_type": "text"
      },
      "source": [
        "# **4. Model Evaluation**"
      ]
    },
    {
      "cell_type": "markdown",
      "metadata": {
        "id": "Vwu7tJkk4ULX",
        "colab_type": "text"
      },
      "source": [
        "### **4.1 Training & Validation Curves**"
      ]
    },
    {
      "cell_type": "markdown",
      "metadata": {
        "id": "FuC5cX3B4lld",
        "colab_type": "text"
      },
      "source": [
        "### **4.2 Confusion Matrix**"
      ]
    },
    {
      "cell_type": "markdown",
      "metadata": {
        "id": "2m93J-sr11EG",
        "colab_type": "text"
      },
      "source": [
        "# **5. Testing & Results Submission**"
      ]
    }
  ]
}